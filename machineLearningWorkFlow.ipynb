{
 "cells": [
  {
   "cell_type": "markdown",
   "metadata": {},
   "source": [
    "### LOAD, CLEAN, AND PREPROCESS"
   ]
  },
  {
   "cell_type": "code",
   "execution_count": 91,
   "metadata": {},
   "outputs": [],
   "source": [
    "import pandas as pd\n",
    "import numpy as np\n",
    "\n",
    "TRAINING = pd.read_csv(\"train.csv\")\n",
    "TESTING = pd.read_csv(\"test.csv\") # Without Label\n",
    "AUGMENTED = pd.read_csv(\"WA_Fn-UseC_-HR-Employee-Attrition.csv\") # Additional data to augment training"
   ]
  },
  {
   "cell_type": "code",
   "execution_count": 92,
   "metadata": {},
   "outputs": [
    {
     "data": {
      "text/html": [
       "<div>\n",
       "<style scoped>\n",
       "    .dataframe tbody tr th:only-of-type {\n",
       "        vertical-align: middle;\n",
       "    }\n",
       "\n",
       "    .dataframe tbody tr th {\n",
       "        vertical-align: top;\n",
       "    }\n",
       "\n",
       "    .dataframe thead th {\n",
       "        text-align: right;\n",
       "    }\n",
       "</style>\n",
       "<table border=\"1\" class=\"dataframe\">\n",
       "  <thead>\n",
       "    <tr style=\"text-align: right;\">\n",
       "      <th></th>\n",
       "      <th>id</th>\n",
       "      <th>Age</th>\n",
       "      <th>DailyRate</th>\n",
       "      <th>DistanceFromHome</th>\n",
       "      <th>Education</th>\n",
       "      <th>EmployeeCount</th>\n",
       "      <th>EnvironmentSatisfaction</th>\n",
       "      <th>HourlyRate</th>\n",
       "      <th>JobInvolvement</th>\n",
       "      <th>JobLevel</th>\n",
       "      <th>...</th>\n",
       "      <th>StandardHours</th>\n",
       "      <th>StockOptionLevel</th>\n",
       "      <th>TotalWorkingYears</th>\n",
       "      <th>TrainingTimesLastYear</th>\n",
       "      <th>WorkLifeBalance</th>\n",
       "      <th>YearsAtCompany</th>\n",
       "      <th>YearsInCurrentRole</th>\n",
       "      <th>YearsSinceLastPromotion</th>\n",
       "      <th>YearsWithCurrManager</th>\n",
       "      <th>Attrition</th>\n",
       "    </tr>\n",
       "  </thead>\n",
       "  <tbody>\n",
       "    <tr>\n",
       "      <th>count</th>\n",
       "      <td>1677.000000</td>\n",
       "      <td>1677.000000</td>\n",
       "      <td>1677.000000</td>\n",
       "      <td>1677.000000</td>\n",
       "      <td>1677.000000</td>\n",
       "      <td>1677.0</td>\n",
       "      <td>1677.000000</td>\n",
       "      <td>1677.000000</td>\n",
       "      <td>1677.000000</td>\n",
       "      <td>1677.000000</td>\n",
       "      <td>...</td>\n",
       "      <td>1677.0</td>\n",
       "      <td>1677.000000</td>\n",
       "      <td>1677.000000</td>\n",
       "      <td>1677.000000</td>\n",
       "      <td>1677.000000</td>\n",
       "      <td>1677.000000</td>\n",
       "      <td>1677.000000</td>\n",
       "      <td>1677.000000</td>\n",
       "      <td>1677.000000</td>\n",
       "      <td>1677.000000</td>\n",
       "    </tr>\n",
       "    <tr>\n",
       "      <th>mean</th>\n",
       "      <td>838.000000</td>\n",
       "      <td>36.036971</td>\n",
       "      <td>892.749553</td>\n",
       "      <td>8.683959</td>\n",
       "      <td>2.937984</td>\n",
       "      <td>1.0</td>\n",
       "      <td>2.757901</td>\n",
       "      <td>67.798450</td>\n",
       "      <td>2.782349</td>\n",
       "      <td>1.998807</td>\n",
       "      <td>...</td>\n",
       "      <td>80.0</td>\n",
       "      <td>0.721527</td>\n",
       "      <td>10.709600</td>\n",
       "      <td>2.732856</td>\n",
       "      <td>2.769827</td>\n",
       "      <td>6.806798</td>\n",
       "      <td>4.144305</td>\n",
       "      <td>1.978533</td>\n",
       "      <td>4.186643</td>\n",
       "      <td>0.119261</td>\n",
       "    </tr>\n",
       "    <tr>\n",
       "      <th>std</th>\n",
       "      <td>484.252517</td>\n",
       "      <td>8.507112</td>\n",
       "      <td>374.496259</td>\n",
       "      <td>7.826143</td>\n",
       "      <td>1.039078</td>\n",
       "      <td>0.0</td>\n",
       "      <td>1.086835</td>\n",
       "      <td>19.435928</td>\n",
       "      <td>0.650664</td>\n",
       "      <td>1.083065</td>\n",
       "      <td>...</td>\n",
       "      <td>0.0</td>\n",
       "      <td>0.771259</td>\n",
       "      <td>7.255135</td>\n",
       "      <td>1.145271</td>\n",
       "      <td>0.647721</td>\n",
       "      <td>5.883282</td>\n",
       "      <td>3.583398</td>\n",
       "      <td>3.045716</td>\n",
       "      <td>3.576189</td>\n",
       "      <td>0.324192</td>\n",
       "    </tr>\n",
       "    <tr>\n",
       "      <th>min</th>\n",
       "      <td>0.000000</td>\n",
       "      <td>18.000000</td>\n",
       "      <td>107.000000</td>\n",
       "      <td>1.000000</td>\n",
       "      <td>1.000000</td>\n",
       "      <td>1.0</td>\n",
       "      <td>1.000000</td>\n",
       "      <td>30.000000</td>\n",
       "      <td>1.000000</td>\n",
       "      <td>1.000000</td>\n",
       "      <td>...</td>\n",
       "      <td>80.0</td>\n",
       "      <td>0.000000</td>\n",
       "      <td>0.000000</td>\n",
       "      <td>0.000000</td>\n",
       "      <td>1.000000</td>\n",
       "      <td>0.000000</td>\n",
       "      <td>0.000000</td>\n",
       "      <td>0.000000</td>\n",
       "      <td>0.000000</td>\n",
       "      <td>0.000000</td>\n",
       "    </tr>\n",
       "    <tr>\n",
       "      <th>25%</th>\n",
       "      <td>419.000000</td>\n",
       "      <td>30.000000</td>\n",
       "      <td>589.000000</td>\n",
       "      <td>2.000000</td>\n",
       "      <td>2.000000</td>\n",
       "      <td>1.0</td>\n",
       "      <td>2.000000</td>\n",
       "      <td>51.000000</td>\n",
       "      <td>2.000000</td>\n",
       "      <td>1.000000</td>\n",
       "      <td>...</td>\n",
       "      <td>80.0</td>\n",
       "      <td>0.000000</td>\n",
       "      <td>6.000000</td>\n",
       "      <td>2.000000</td>\n",
       "      <td>2.000000</td>\n",
       "      <td>3.000000</td>\n",
       "      <td>2.000000</td>\n",
       "      <td>0.000000</td>\n",
       "      <td>2.000000</td>\n",
       "      <td>0.000000</td>\n",
       "    </tr>\n",
       "    <tr>\n",
       "      <th>50%</th>\n",
       "      <td>838.000000</td>\n",
       "      <td>35.000000</td>\n",
       "      <td>890.000000</td>\n",
       "      <td>7.000000</td>\n",
       "      <td>3.000000</td>\n",
       "      <td>1.0</td>\n",
       "      <td>3.000000</td>\n",
       "      <td>69.000000</td>\n",
       "      <td>3.000000</td>\n",
       "      <td>2.000000</td>\n",
       "      <td>...</td>\n",
       "      <td>80.0</td>\n",
       "      <td>1.000000</td>\n",
       "      <td>9.000000</td>\n",
       "      <td>3.000000</td>\n",
       "      <td>3.000000</td>\n",
       "      <td>5.000000</td>\n",
       "      <td>3.000000</td>\n",
       "      <td>1.000000</td>\n",
       "      <td>3.000000</td>\n",
       "      <td>0.000000</td>\n",
       "    </tr>\n",
       "    <tr>\n",
       "      <th>75%</th>\n",
       "      <td>1257.000000</td>\n",
       "      <td>41.000000</td>\n",
       "      <td>1223.000000</td>\n",
       "      <td>12.000000</td>\n",
       "      <td>4.000000</td>\n",
       "      <td>1.0</td>\n",
       "      <td>4.000000</td>\n",
       "      <td>84.000000</td>\n",
       "      <td>3.000000</td>\n",
       "      <td>2.000000</td>\n",
       "      <td>...</td>\n",
       "      <td>80.0</td>\n",
       "      <td>1.000000</td>\n",
       "      <td>14.000000</td>\n",
       "      <td>3.000000</td>\n",
       "      <td>3.000000</td>\n",
       "      <td>9.000000</td>\n",
       "      <td>7.000000</td>\n",
       "      <td>2.000000</td>\n",
       "      <td>7.000000</td>\n",
       "      <td>0.000000</td>\n",
       "    </tr>\n",
       "    <tr>\n",
       "      <th>max</th>\n",
       "      <td>1676.000000</td>\n",
       "      <td>60.000000</td>\n",
       "      <td>3921.000000</td>\n",
       "      <td>29.000000</td>\n",
       "      <td>15.000000</td>\n",
       "      <td>1.0</td>\n",
       "      <td>4.000000</td>\n",
       "      <td>100.000000</td>\n",
       "      <td>4.000000</td>\n",
       "      <td>7.000000</td>\n",
       "      <td>...</td>\n",
       "      <td>80.0</td>\n",
       "      <td>3.000000</td>\n",
       "      <td>41.000000</td>\n",
       "      <td>6.000000</td>\n",
       "      <td>4.000000</td>\n",
       "      <td>41.000000</td>\n",
       "      <td>18.000000</td>\n",
       "      <td>15.000000</td>\n",
       "      <td>17.000000</td>\n",
       "      <td>1.000000</td>\n",
       "    </tr>\n",
       "  </tbody>\n",
       "</table>\n",
       "<p>8 rows × 27 columns</p>\n",
       "</div>"
      ],
      "text/plain": [
       "                id          Age    DailyRate  DistanceFromHome    Education  \\\n",
       "count  1677.000000  1677.000000  1677.000000       1677.000000  1677.000000   \n",
       "mean    838.000000    36.036971   892.749553          8.683959     2.937984   \n",
       "std     484.252517     8.507112   374.496259          7.826143     1.039078   \n",
       "min       0.000000    18.000000   107.000000          1.000000     1.000000   \n",
       "25%     419.000000    30.000000   589.000000          2.000000     2.000000   \n",
       "50%     838.000000    35.000000   890.000000          7.000000     3.000000   \n",
       "75%    1257.000000    41.000000  1223.000000         12.000000     4.000000   \n",
       "max    1676.000000    60.000000  3921.000000         29.000000    15.000000   \n",
       "\n",
       "       EmployeeCount  EnvironmentSatisfaction   HourlyRate  JobInvolvement  \\\n",
       "count         1677.0              1677.000000  1677.000000     1677.000000   \n",
       "mean             1.0                 2.757901    67.798450        2.782349   \n",
       "std              0.0                 1.086835    19.435928        0.650664   \n",
       "min              1.0                 1.000000    30.000000        1.000000   \n",
       "25%              1.0                 2.000000    51.000000        2.000000   \n",
       "50%              1.0                 3.000000    69.000000        3.000000   \n",
       "75%              1.0                 4.000000    84.000000        3.000000   \n",
       "max              1.0                 4.000000   100.000000        4.000000   \n",
       "\n",
       "          JobLevel  ...  StandardHours  StockOptionLevel  TotalWorkingYears  \\\n",
       "count  1677.000000  ...         1677.0       1677.000000        1677.000000   \n",
       "mean      1.998807  ...           80.0          0.721527          10.709600   \n",
       "std       1.083065  ...            0.0          0.771259           7.255135   \n",
       "min       1.000000  ...           80.0          0.000000           0.000000   \n",
       "25%       1.000000  ...           80.0          0.000000           6.000000   \n",
       "50%       2.000000  ...           80.0          1.000000           9.000000   \n",
       "75%       2.000000  ...           80.0          1.000000          14.000000   \n",
       "max       7.000000  ...           80.0          3.000000          41.000000   \n",
       "\n",
       "       TrainingTimesLastYear  WorkLifeBalance  YearsAtCompany  \\\n",
       "count            1677.000000      1677.000000     1677.000000   \n",
       "mean                2.732856         2.769827        6.806798   \n",
       "std                 1.145271         0.647721        5.883282   \n",
       "min                 0.000000         1.000000        0.000000   \n",
       "25%                 2.000000         2.000000        3.000000   \n",
       "50%                 3.000000         3.000000        5.000000   \n",
       "75%                 3.000000         3.000000        9.000000   \n",
       "max                 6.000000         4.000000       41.000000   \n",
       "\n",
       "       YearsInCurrentRole  YearsSinceLastPromotion  YearsWithCurrManager  \\\n",
       "count         1677.000000              1677.000000           1677.000000   \n",
       "mean             4.144305                 1.978533              4.186643   \n",
       "std              3.583398                 3.045716              3.576189   \n",
       "min              0.000000                 0.000000              0.000000   \n",
       "25%              2.000000                 0.000000              2.000000   \n",
       "50%              3.000000                 1.000000              3.000000   \n",
       "75%              7.000000                 2.000000              7.000000   \n",
       "max             18.000000                15.000000             17.000000   \n",
       "\n",
       "         Attrition  \n",
       "count  1677.000000  \n",
       "mean      0.119261  \n",
       "std       0.324192  \n",
       "min       0.000000  \n",
       "25%       0.000000  \n",
       "50%       0.000000  \n",
       "75%       0.000000  \n",
       "max       1.000000  \n",
       "\n",
       "[8 rows x 27 columns]"
      ]
     },
     "execution_count": 92,
     "metadata": {},
     "output_type": "execute_result"
    }
   ],
   "source": [
    "TRAINING.describe()"
   ]
  },
  {
   "cell_type": "markdown",
   "metadata": {},
   "source": [
    "### DROP IDS AND DUPLICATES"
   ]
  },
  {
   "cell_type": "code",
   "execution_count": 93,
   "metadata": {},
   "outputs": [],
   "source": [
    "# Drop ID columns\n",
    "TRAINING = TRAINING.drop(columns=['id'])\n",
    "\n",
    "# Drop duplplicates if it exists\n",
    "TRAINING = TRAINING.drop_duplicates(subset=None, keep='first', inplace=False)\n",
    "AUGMENTED = AUGMENTED.drop_duplicates(subset=None, keep='first', inplace=False)\n",
    "\n",
    "# Make Attrition for Augmented be 0 and 1\n",
    "AUGMENTED['Attrition'] = AUGMENTED['Attrition'].replace({'Yes':1,'No':0})"
   ]
  },
  {
   "cell_type": "markdown",
   "metadata": {},
   "source": [
    "### DROP ONE DIMENSIONALS"
   ]
  },
  {
   "cell_type": "code",
   "execution_count": 94,
   "metadata": {},
   "outputs": [],
   "source": [
    "def dropOneDim(data: pd.DataFrame, Label: str) -> (pd.DataFrame, list):\n",
    "    one_dimensional_cols = [col for col in data.columns if data[col].nunique() == 1]\n",
    "    print(\"Dropped columns:\", one_dimensional_cols)  # Print dropped columns\n",
    "\n",
    "    # Filter out one-dimensional columns\n",
    "    remaining_columns = [col for col in data.columns if col not in one_dimensional_cols]\n",
    "    \n",
    "    # Exclude the label column from remaining columns\n",
    "    remaining_columns = [col for col in remaining_columns if col != Label]\n",
    "\n",
    "    # Return updated DataFrame and remaining columns\n",
    "    return data[remaining_columns + [Label]], remaining_columns\n"
   ]
  },
  {
   "cell_type": "code",
   "execution_count": 95,
   "metadata": {},
   "outputs": [
    {
     "name": "stdout",
     "output_type": "stream",
     "text": [
      "Dropped columns: ['EmployeeCount', 'Over18', 'StandardHours']\n",
      "Dropped columns: ['EmployeeCount', 'Over18', 'StandardHours']\n"
     ]
    }
   ],
   "source": [
    "# Drop one-dimensional features\n",
    "TRAINING, remaining_columns = dropOneDim(TRAINING, \"Attrition\")\n",
    "TESTING = TESTING[remaining_columns]\n",
    "AUGMENTED, remaining_columns = dropOneDim(AUGMENTED, \"Attrition\")"
   ]
  },
  {
   "cell_type": "markdown",
   "metadata": {},
   "source": [
    "### REORDER AND ENCODE THE ORDINAL FEATURE IN THE DATASET"
   ]
  },
  {
   "cell_type": "code",
   "execution_count": 96,
   "metadata": {},
   "outputs": [],
   "source": [
    "ORDER = [\"Non-Travel\", \"Travel_Rarely\", \"Travel_Frequently\"]\n",
    "TRAINING[\"BusinessTravel\"] = pd.Categorical(TRAINING[\"BusinessTravel\"], categories=ORDER, ordered=True)\n",
    "AUGMENTED[\"BusinessTravel\"] = pd.Categorical(AUGMENTED[\"BusinessTravel\"], categories=ORDER, ordered=True)\n",
    "TESTING[\"BusinessTravel\"] = pd.Categorical(TESTING[\"BusinessTravel\"], categories=ORDER, ordered=True)\n",
    "# Encode as integers\n",
    "TRAINING[\"BusinessTravel\"] = TRAINING[\"BusinessTravel\"].cat.codes.replace(-1, None)\n",
    "AUGMENTED[\"BusinessTravel\"] = AUGMENTED[\"BusinessTravel\"].cat.codes.replace(-1, None)\n",
    "TESTING[\"BusinessTravel\"] = TESTING[\"BusinessTravel\"].cat.codes.replace(-1, None)\n"
   ]
  },
  {
   "cell_type": "markdown",
   "metadata": {},
   "source": [
    "### SPECIFY FEATURE TYPES"
   ]
  },
  {
   "cell_type": "code",
   "execution_count": 97,
   "metadata": {},
   "outputs": [
    {
     "name": "stdout",
     "output_type": "stream",
     "text": [
      "Categorical features: ['Department', 'EducationField', 'Gender', 'JobRole', 'MaritalStatus', 'OverTime']\n",
      "Numeric Features: ['Age', 'BusinessTravel', 'DailyRate', 'DistanceFromHome', 'Education', 'EnvironmentSatisfaction', 'HourlyRate', 'JobInvolvement', 'JobLevel', 'JobSatisfaction', 'MonthlyIncome', 'MonthlyRate', 'NumCompaniesWorked', 'PercentSalaryHike', 'PerformanceRating', 'RelationshipSatisfaction', 'StockOptionLevel', 'TotalWorkingYears', 'TrainingTimesLastYear', 'WorkLifeBalance', 'YearsAtCompany', 'YearsInCurrentRole', 'YearsSinceLastPromotion', 'YearsWithCurrManager', 'Attrition']\n"
     ]
    }
   ],
   "source": [
    "NUMERICS = TRAINING.select_dtypes(include=[\"number\"]).columns.tolist()\n",
    "CATEGORICALS = TRAINING.select_dtypes(include=[\"object\", \"category\"]).columns.tolist()\n",
    "print (f'Categorical features: {CATEGORICALS}')\n",
    "print (f'Numeric Features: {NUMERICS}')"
   ]
  },
  {
   "cell_type": "markdown",
   "metadata": {},
   "source": [
    "### FILL IN MISSING OBSERVATIONS IN NUMERIC FEATURES"
   ]
  },
  {
   "cell_type": "code",
   "execution_count": 98,
   "metadata": {},
   "outputs": [],
   "source": [
    "def impute_median(df, exclude_columns=[]):\n",
    "    numeric_features = df.select_dtypes(include=['number']).columns\n",
    "    numeric_features = [col for col in numeric_features if col not in exclude_columns]\n",
    "    for column in numeric_features:\n",
    "        median_value = df[column].median()\n",
    "        df[column].fillna(median_value, inplace=True)\n",
    "\n",
    "# Apply on df\n",
    "impute_median(TRAINING, exclude_columns=['Attrition'])\n",
    "impute_median(TESTING)\n",
    "impute_median(AUGMENTED, exclude_columns=['Attrition'])"
   ]
  },
  {
   "cell_type": "markdown",
   "metadata": {},
   "source": [
    "### HANDLE OUTLIERS BY CAPPING WITH MIN AND MAX"
   ]
  },
  {
   "cell_type": "code",
   "execution_count": 99,
   "metadata": {},
   "outputs": [],
   "source": [
    "def cap_outliers(df, exclude_columns=[], lower_quantile=0.01, upper_quantile=0.99):\n",
    "    numeric_features = df.select_dtypes(include=['number']).columns\n",
    "    numeric_features = [col for col in numeric_features if col not in exclude_columns]\n",
    "    for column in numeric_features:\n",
    "        lower_bound = df[column].quantile(lower_quantile)\n",
    "        upper_bound = df[column].quantile(upper_quantile)\n",
    "        df[column] = df[column].clip(lower=lower_bound, upper=upper_bound)\n",
    "\n",
    "# Apply on DF\n",
    "cap_outliers(TRAINING, exclude_columns=['Label'])\n",
    "cap_outliers(TESTING)\n",
    "cap_outliers(AUGMENTED, exclude_columns=['Label'])"
   ]
  },
  {
   "cell_type": "code",
   "execution_count": 100,
   "metadata": {},
   "outputs": [
    {
     "data": {
      "text/html": [
       "<div>\n",
       "<style scoped>\n",
       "    .dataframe tbody tr th:only-of-type {\n",
       "        vertical-align: middle;\n",
       "    }\n",
       "\n",
       "    .dataframe tbody tr th {\n",
       "        vertical-align: top;\n",
       "    }\n",
       "\n",
       "    .dataframe thead th {\n",
       "        text-align: right;\n",
       "    }\n",
       "</style>\n",
       "<table border=\"1\" class=\"dataframe\">\n",
       "  <thead>\n",
       "    <tr style=\"text-align: right;\">\n",
       "      <th></th>\n",
       "      <th>Age</th>\n",
       "      <th>BusinessTravel</th>\n",
       "      <th>DailyRate</th>\n",
       "      <th>DistanceFromHome</th>\n",
       "      <th>Education</th>\n",
       "      <th>EnvironmentSatisfaction</th>\n",
       "      <th>HourlyRate</th>\n",
       "      <th>JobInvolvement</th>\n",
       "      <th>JobLevel</th>\n",
       "      <th>JobSatisfaction</th>\n",
       "      <th>...</th>\n",
       "      <th>RelationshipSatisfaction</th>\n",
       "      <th>StockOptionLevel</th>\n",
       "      <th>TotalWorkingYears</th>\n",
       "      <th>TrainingTimesLastYear</th>\n",
       "      <th>WorkLifeBalance</th>\n",
       "      <th>YearsAtCompany</th>\n",
       "      <th>YearsInCurrentRole</th>\n",
       "      <th>YearsSinceLastPromotion</th>\n",
       "      <th>YearsWithCurrManager</th>\n",
       "      <th>Attrition</th>\n",
       "    </tr>\n",
       "  </thead>\n",
       "  <tbody>\n",
       "    <tr>\n",
       "      <th>count</th>\n",
       "      <td>1677.000000</td>\n",
       "      <td>1677.000000</td>\n",
       "      <td>1677.000000</td>\n",
       "      <td>1677.000000</td>\n",
       "      <td>1677.000000</td>\n",
       "      <td>1677.000000</td>\n",
       "      <td>1677.000000</td>\n",
       "      <td>1677.000000</td>\n",
       "      <td>1677.000000</td>\n",
       "      <td>1677.000000</td>\n",
       "      <td>...</td>\n",
       "      <td>1677.000000</td>\n",
       "      <td>1677.000000</td>\n",
       "      <td>1677.000000</td>\n",
       "      <td>1677.000000</td>\n",
       "      <td>1677.000000</td>\n",
       "      <td>1677.000000</td>\n",
       "      <td>1677.000000</td>\n",
       "      <td>1677.000000</td>\n",
       "      <td>1677.000000</td>\n",
       "      <td>1677.000000</td>\n",
       "    </tr>\n",
       "    <tr>\n",
       "      <th>mean</th>\n",
       "      <td>36.034586</td>\n",
       "      <td>1.080501</td>\n",
       "      <td>891.352415</td>\n",
       "      <td>8.683959</td>\n",
       "      <td>2.932021</td>\n",
       "      <td>2.757901</td>\n",
       "      <td>67.806202</td>\n",
       "      <td>2.782349</td>\n",
       "      <td>1.997615</td>\n",
       "      <td>2.791890</td>\n",
       "      <td>...</td>\n",
       "      <td>2.751342</td>\n",
       "      <td>0.721527</td>\n",
       "      <td>10.690519</td>\n",
       "      <td>2.732856</td>\n",
       "      <td>2.769827</td>\n",
       "      <td>6.771020</td>\n",
       "      <td>4.126416</td>\n",
       "      <td>1.971377</td>\n",
       "      <td>4.166369</td>\n",
       "      <td>0.119261</td>\n",
       "    </tr>\n",
       "    <tr>\n",
       "      <th>std</th>\n",
       "      <td>8.466838</td>\n",
       "      <td>0.473733</td>\n",
       "      <td>367.028880</td>\n",
       "      <td>7.826143</td>\n",
       "      <td>0.997685</td>\n",
       "      <td>1.086835</td>\n",
       "      <td>19.421036</td>\n",
       "      <td>0.650664</td>\n",
       "      <td>1.078647</td>\n",
       "      <td>1.097396</td>\n",
       "      <td>...</td>\n",
       "      <td>1.077905</td>\n",
       "      <td>0.771259</td>\n",
       "      <td>7.151880</td>\n",
       "      <td>1.145271</td>\n",
       "      <td>0.647721</td>\n",
       "      <td>5.728028</td>\n",
       "      <td>3.523125</td>\n",
       "      <td>3.016129</td>\n",
       "      <td>3.512727</td>\n",
       "      <td>0.324192</td>\n",
       "    </tr>\n",
       "    <tr>\n",
       "      <th>min</th>\n",
       "      <td>19.000000</td>\n",
       "      <td>0.000000</td>\n",
       "      <td>130.000000</td>\n",
       "      <td>1.000000</td>\n",
       "      <td>1.000000</td>\n",
       "      <td>1.000000</td>\n",
       "      <td>31.000000</td>\n",
       "      <td>1.000000</td>\n",
       "      <td>1.000000</td>\n",
       "      <td>1.000000</td>\n",
       "      <td>...</td>\n",
       "      <td>1.000000</td>\n",
       "      <td>0.000000</td>\n",
       "      <td>1.000000</td>\n",
       "      <td>0.000000</td>\n",
       "      <td>1.000000</td>\n",
       "      <td>0.000000</td>\n",
       "      <td>0.000000</td>\n",
       "      <td>0.000000</td>\n",
       "      <td>0.000000</td>\n",
       "      <td>0.000000</td>\n",
       "    </tr>\n",
       "    <tr>\n",
       "      <th>25%</th>\n",
       "      <td>30.000000</td>\n",
       "      <td>1.000000</td>\n",
       "      <td>589.000000</td>\n",
       "      <td>2.000000</td>\n",
       "      <td>2.000000</td>\n",
       "      <td>2.000000</td>\n",
       "      <td>51.000000</td>\n",
       "      <td>2.000000</td>\n",
       "      <td>1.000000</td>\n",
       "      <td>2.000000</td>\n",
       "      <td>...</td>\n",
       "      <td>2.000000</td>\n",
       "      <td>0.000000</td>\n",
       "      <td>6.000000</td>\n",
       "      <td>2.000000</td>\n",
       "      <td>2.000000</td>\n",
       "      <td>3.000000</td>\n",
       "      <td>2.000000</td>\n",
       "      <td>0.000000</td>\n",
       "      <td>2.000000</td>\n",
       "      <td>0.000000</td>\n",
       "    </tr>\n",
       "    <tr>\n",
       "      <th>50%</th>\n",
       "      <td>35.000000</td>\n",
       "      <td>1.000000</td>\n",
       "      <td>890.000000</td>\n",
       "      <td>7.000000</td>\n",
       "      <td>3.000000</td>\n",
       "      <td>3.000000</td>\n",
       "      <td>69.000000</td>\n",
       "      <td>3.000000</td>\n",
       "      <td>2.000000</td>\n",
       "      <td>3.000000</td>\n",
       "      <td>...</td>\n",
       "      <td>3.000000</td>\n",
       "      <td>1.000000</td>\n",
       "      <td>9.000000</td>\n",
       "      <td>3.000000</td>\n",
       "      <td>3.000000</td>\n",
       "      <td>5.000000</td>\n",
       "      <td>3.000000</td>\n",
       "      <td>1.000000</td>\n",
       "      <td>3.000000</td>\n",
       "      <td>0.000000</td>\n",
       "    </tr>\n",
       "    <tr>\n",
       "      <th>75%</th>\n",
       "      <td>41.000000</td>\n",
       "      <td>1.000000</td>\n",
       "      <td>1223.000000</td>\n",
       "      <td>12.000000</td>\n",
       "      <td>4.000000</td>\n",
       "      <td>4.000000</td>\n",
       "      <td>84.000000</td>\n",
       "      <td>3.000000</td>\n",
       "      <td>2.000000</td>\n",
       "      <td>4.000000</td>\n",
       "      <td>...</td>\n",
       "      <td>4.000000</td>\n",
       "      <td>1.000000</td>\n",
       "      <td>14.000000</td>\n",
       "      <td>3.000000</td>\n",
       "      <td>3.000000</td>\n",
       "      <td>9.000000</td>\n",
       "      <td>7.000000</td>\n",
       "      <td>2.000000</td>\n",
       "      <td>7.000000</td>\n",
       "      <td>0.000000</td>\n",
       "    </tr>\n",
       "    <tr>\n",
       "      <th>max</th>\n",
       "      <td>58.000000</td>\n",
       "      <td>2.000000</td>\n",
       "      <td>1485.000000</td>\n",
       "      <td>29.000000</td>\n",
       "      <td>5.000000</td>\n",
       "      <td>4.000000</td>\n",
       "      <td>100.000000</td>\n",
       "      <td>4.000000</td>\n",
       "      <td>5.000000</td>\n",
       "      <td>4.000000</td>\n",
       "      <td>...</td>\n",
       "      <td>4.000000</td>\n",
       "      <td>3.000000</td>\n",
       "      <td>33.000000</td>\n",
       "      <td>6.000000</td>\n",
       "      <td>4.000000</td>\n",
       "      <td>29.000000</td>\n",
       "      <td>15.000000</td>\n",
       "      <td>14.000000</td>\n",
       "      <td>14.000000</td>\n",
       "      <td>1.000000</td>\n",
       "    </tr>\n",
       "  </tbody>\n",
       "</table>\n",
       "<p>8 rows × 25 columns</p>\n",
       "</div>"
      ],
      "text/plain": [
       "               Age  BusinessTravel    DailyRate  DistanceFromHome  \\\n",
       "count  1677.000000     1677.000000  1677.000000       1677.000000   \n",
       "mean     36.034586        1.080501   891.352415          8.683959   \n",
       "std       8.466838        0.473733   367.028880          7.826143   \n",
       "min      19.000000        0.000000   130.000000          1.000000   \n",
       "25%      30.000000        1.000000   589.000000          2.000000   \n",
       "50%      35.000000        1.000000   890.000000          7.000000   \n",
       "75%      41.000000        1.000000  1223.000000         12.000000   \n",
       "max      58.000000        2.000000  1485.000000         29.000000   \n",
       "\n",
       "         Education  EnvironmentSatisfaction   HourlyRate  JobInvolvement  \\\n",
       "count  1677.000000              1677.000000  1677.000000     1677.000000   \n",
       "mean      2.932021                 2.757901    67.806202        2.782349   \n",
       "std       0.997685                 1.086835    19.421036        0.650664   \n",
       "min       1.000000                 1.000000    31.000000        1.000000   \n",
       "25%       2.000000                 2.000000    51.000000        2.000000   \n",
       "50%       3.000000                 3.000000    69.000000        3.000000   \n",
       "75%       4.000000                 4.000000    84.000000        3.000000   \n",
       "max       5.000000                 4.000000   100.000000        4.000000   \n",
       "\n",
       "          JobLevel  JobSatisfaction  ...  RelationshipSatisfaction  \\\n",
       "count  1677.000000      1677.000000  ...               1677.000000   \n",
       "mean      1.997615         2.791890  ...                  2.751342   \n",
       "std       1.078647         1.097396  ...                  1.077905   \n",
       "min       1.000000         1.000000  ...                  1.000000   \n",
       "25%       1.000000         2.000000  ...                  2.000000   \n",
       "50%       2.000000         3.000000  ...                  3.000000   \n",
       "75%       2.000000         4.000000  ...                  4.000000   \n",
       "max       5.000000         4.000000  ...                  4.000000   \n",
       "\n",
       "       StockOptionLevel  TotalWorkingYears  TrainingTimesLastYear  \\\n",
       "count       1677.000000        1677.000000            1677.000000   \n",
       "mean           0.721527          10.690519               2.732856   \n",
       "std            0.771259           7.151880               1.145271   \n",
       "min            0.000000           1.000000               0.000000   \n",
       "25%            0.000000           6.000000               2.000000   \n",
       "50%            1.000000           9.000000               3.000000   \n",
       "75%            1.000000          14.000000               3.000000   \n",
       "max            3.000000          33.000000               6.000000   \n",
       "\n",
       "       WorkLifeBalance  YearsAtCompany  YearsInCurrentRole  \\\n",
       "count      1677.000000     1677.000000         1677.000000   \n",
       "mean          2.769827        6.771020            4.126416   \n",
       "std           0.647721        5.728028            3.523125   \n",
       "min           1.000000        0.000000            0.000000   \n",
       "25%           2.000000        3.000000            2.000000   \n",
       "50%           3.000000        5.000000            3.000000   \n",
       "75%           3.000000        9.000000            7.000000   \n",
       "max           4.000000       29.000000           15.000000   \n",
       "\n",
       "       YearsSinceLastPromotion  YearsWithCurrManager    Attrition  \n",
       "count              1677.000000           1677.000000  1677.000000  \n",
       "mean                  1.971377              4.166369     0.119261  \n",
       "std                   3.016129              3.512727     0.324192  \n",
       "min                   0.000000              0.000000     0.000000  \n",
       "25%                   0.000000              2.000000     0.000000  \n",
       "50%                   1.000000              3.000000     0.000000  \n",
       "75%                   2.000000              7.000000     0.000000  \n",
       "max                  14.000000             14.000000     1.000000  \n",
       "\n",
       "[8 rows x 25 columns]"
      ]
     },
     "execution_count": 100,
     "metadata": {},
     "output_type": "execute_result"
    }
   ],
   "source": [
    "TRAINING.describe()"
   ]
  },
  {
   "cell_type": "markdown",
   "metadata": {},
   "source": [
    "### CHECK FOR EXTRA FEATURES REFLECTING IN AUGMENTED AND DROP"
   ]
  },
  {
   "cell_type": "code",
   "execution_count": 101,
   "metadata": {},
   "outputs": [
    {
     "data": {
      "text/plain": [
       "{'EmployeeNumber'}"
      ]
     },
     "execution_count": 101,
     "metadata": {},
     "output_type": "execute_result"
    }
   ],
   "source": [
    "set(TRAINING.columns) - set(AUGMENTED.columns)\n",
    "set(AUGMENTED.columns) - set(TRAINING.columns)"
   ]
  },
  {
   "cell_type": "code",
   "execution_count": 102,
   "metadata": {},
   "outputs": [],
   "source": [
    "# Dropping Employee number from Augmented dataframe\n",
    "AUGMENTED = AUGMENTED.drop(columns=['EmployeeNumber'])"
   ]
  },
  {
   "cell_type": "markdown",
   "metadata": {},
   "source": [
    "### EXTRACT FEATURES"
   ]
  },
  {
   "cell_type": "code",
   "execution_count": 103,
   "metadata": {},
   "outputs": [],
   "source": [
    "# Derive new features\n",
    "def feature_extraction(df: pd.DataFrame) -> pd.DataFrame:\n",
    "    # df['AgeGroup'] = pd.cut(df['Age'], bins=[20, 30, 40, 50], labels=['20-30', '31-40', '41-50'])\n",
    "    df['Tenure'] = df['Age'] - df['YearsAtCompany']\n",
    "    df['IncomePerYear'] = df['MonthlyIncome'] / df['YearsAtCompany']\n",
    "    df['JobSatisfactionRatio'] = df['JobSatisfaction'] / df['YearsAtCompany']\n",
    "    # df['DistanceCategory'] = pd.cut(df['DistanceFromHome'], bins=[0, 10, 20, 30], labels=['0-10 km', '11-20 km', '21-30 km'])\n",
    "    df['TotalTrainingTime'] = df['TrainingTimesLastYear'] * df['YearsAtCompany']\n",
    "    df['AverageMonthlyRate'] = df['MonthlyRate'] / df['YearsAtCompany']\n",
    "    df['JobRoleTenure'] = df['YearsInCurrentRole'] / df['YearsAtCompany']\n",
    "    df['PromotionFrequency'] = df['YearsSinceLastPromotion'] / df['YearsAtCompany']\n",
    "\n",
    "    return df"
   ]
  },
  {
   "cell_type": "code",
   "execution_count": 104,
   "metadata": {},
   "outputs": [],
   "source": [
    "# Apply the function on dataset\n",
    "NEW_TRAINING = feature_extraction(TRAINING)\n",
    "NEW_TESTING = feature_extraction(TESTING)\n",
    "NEW_AUGMENTED = feature_extraction(AUGMENTED)"
   ]
  },
  {
   "cell_type": "markdown",
   "metadata": {},
   "source": [
    "### ENCODE CATEGORICALS WITH ONE-HOT ENCODING"
   ]
  },
  {
   "cell_type": "code",
   "execution_count": 105,
   "metadata": {},
   "outputs": [],
   "source": [
    "# Perform one-hot encoding on categorical features\n",
    "NEW_TRAINING = pd.get_dummies(NEW_TRAINING, columns=CATEGORICALS)\n",
    "NEW_TESTING = pd.get_dummies(NEW_TESTING, columns=CATEGORICALS)\n",
    "NEW_AUGMENTED = pd.get_dummies(NEW_AUGMENTED, columns=CATEGORICALS)"
   ]
  },
  {
   "cell_type": "code",
   "execution_count": 108,
   "metadata": {},
   "outputs": [],
   "source": [
    "NEW_TRAINING = NEW_TRAINING.dropna()\n",
    "NEW_AUGMENTED = NEW_AUGMENTED.dropna()\n"
   ]
  },
  {
   "cell_type": "markdown",
   "metadata": {},
   "source": [
    "### DATA SAMPLING (STRATIFIED K FOLD) AND MODELLING"
   ]
  },
  {
   "cell_type": "code",
   "execution_count": 114,
   "metadata": {},
   "outputs": [],
   "source": [
    "from sklearn.model_selection import StratifiedKFold, GridSearchCV\n",
    "from sklearn.metrics import roc_auc_score, f1_score, accuracy_score, mean_squared_error\n",
    "from catboost import CatBoostClassifier\n",
    "from xgboost import XGBClassifier"
   ]
  },
  {
   "cell_type": "code",
   "execution_count": 115,
   "metadata": {},
   "outputs": [
    {
     "name": "stdout",
     "output_type": "stream",
     "text": [
      "Fold 1 - CatBoost\n",
      "Best Hyperparameters: {'depth': 4, 'iterations': 100, 'l2_leaf_reg': 5, 'learning_rate': 0.1}\n",
      "AUC: 0.8926, F1: 0.3774, Accuracy: 0.8985\n",
      "Fold 1 - XGBoost\n",
      "Best Hyperparameters: {'learning_rate': 0.1, 'max_depth': 4, 'n_estimators': 100, 'subsample': 0.8}\n",
      "AUC: 0.8623, F1: 0.4068, Accuracy: 0.8923\n",
      "\n",
      "\n",
      "Fold 2 - CatBoost\n",
      "Best Hyperparameters: {'depth': 8, 'iterations': 100, 'l2_leaf_reg': 5, 'learning_rate': 0.1}\n",
      "AUC: 0.7905, F1: 0.0000, Accuracy: 0.8800\n",
      "Fold 2 - XGBoost\n",
      "Best Hyperparameters: {'learning_rate': 0.1, 'max_depth': 4, 'n_estimators': 100, 'subsample': 0.8}\n",
      "AUC: 0.7971, F1: 0.1277, Accuracy: 0.8738\n",
      "\n",
      "\n",
      "Fold 3 - CatBoost\n",
      "Best Hyperparameters: {'depth': 4, 'iterations': 100, 'l2_leaf_reg': 5, 'learning_rate': 0.1}\n",
      "AUC: 0.8286, F1: 0.2326, Accuracy: 0.8985\n",
      "Fold 3 - XGBoost\n",
      "Best Hyperparameters: {'learning_rate': 0.1, 'max_depth': 4, 'n_estimators': 100, 'subsample': 0.8}\n",
      "AUC: 0.8159, F1: 0.3404, Accuracy: 0.9046\n",
      "\n",
      "\n",
      "Fold 4 - CatBoost\n",
      "Best Hyperparameters: {'depth': 4, 'iterations': 100, 'l2_leaf_reg': 5, 'learning_rate': 0.1}\n",
      "AUC: 0.9277, F1: 0.5098, Accuracy: 0.9228\n",
      "Fold 4 - XGBoost\n",
      "Best Hyperparameters: {'learning_rate': 0.1, 'max_depth': 4, 'n_estimators': 100, 'subsample': 0.8}\n",
      "AUC: 0.9073, F1: 0.5965, Accuracy: 0.9290\n",
      "\n",
      "\n",
      "Fold 5 - CatBoost\n",
      "Best Hyperparameters: {'depth': 4, 'iterations': 100, 'l2_leaf_reg': 1, 'learning_rate': 0.1}\n",
      "AUC: 0.8655, F1: 0.3860, Accuracy: 0.8920\n",
      "Fold 5 - XGBoost\n",
      "Best Hyperparameters: {'learning_rate': 0.1, 'max_depth': 4, 'n_estimators': 100, 'subsample': 0.8}\n",
      "AUC: 0.8494, F1: 0.4194, Accuracy: 0.8889\n",
      "\n",
      "\n"
     ]
    }
   ],
   "source": [
    "# Define the number of folds\n",
    "n_splits = 5\n",
    "\n",
    "# Initialize StratifiedKFold\n",
    "skf = StratifiedKFold(n_splits=n_splits, shuffle=True, random_state=42)\n",
    "\n",
    "# Define hyperparameters for grid search\n",
    "catboost_params = {\n",
    "    'iterations': [100, 200],\n",
    "    'depth': [4, 6, 8],\n",
    "    'learning_rate': [0.01, 0.1, 0.2],\n",
    "    'l2_leaf_reg': [1, 3, 5]\n",
    "}\n",
    "\n",
    "xgboost_params = {\n",
    "    'n_estimators': [100, 200],\n",
    "    'max_depth': [4, 6, 8],\n",
    "    'learning_rate': [0.01, 0.1, 0.2],\n",
    "    'subsample': [0.8, 1.0]\n",
    "}\n",
    "\n",
    "# Initialize models\n",
    "catboost_model = CatBoostClassifier(silent=True)\n",
    "xgboost_model = XGBClassifier(use_label_encoder=False, eval_metric='logloss')\n",
    "\n",
    "# Initialize GridSearchCV\n",
    "catboost_grid = GridSearchCV(catboost_model, catboost_params, scoring='roc_auc', cv=skf)\n",
    "xgboost_grid = GridSearchCV(xgboost_model, xgboost_params, scoring='roc_auc', cv=skf)\n",
    "\n",
    "# Lists to store results\n",
    "results = []\n",
    "\n",
    "# Perform K-fold stratified sampling and augment the data\n",
    "for fold, (train_index, test_index) in enumerate(skf.split(NEW_TRAINING, NEW_TRAINING['Attrition'])):\n",
    "    # Split the training data into train and validation sets\n",
    "    train_fold = NEW_TRAINING.iloc[train_index]\n",
    "    val_fold = NEW_TRAINING.iloc[test_index]\n",
    "    \n",
    "    # Augment the training data with the augmentation data\n",
    "    train_fold_augmented = pd.concat([train_fold, NEW_AUGMENTED], ignore_index=True)\n",
    "    \n",
    "    X_train = train_fold_augmented.drop('Attrition', axis=1)\n",
    "    y_train = train_fold_augmented['Attrition']\n",
    "    X_val = val_fold.drop('Attrition', axis=1)\n",
    "    y_val = val_fold['Attrition']\n",
    "    \n",
    "    # Fit and evaluate CatBoost model\n",
    "    catboost_grid.fit(X_train, y_train)\n",
    "    catboost_best_model = catboost_grid.best_estimator_\n",
    "    y_pred_catboost = catboost_best_model.predict(X_val)\n",
    "    y_pred_proba_catboost = catboost_best_model.predict_proba(X_val)[:, 1]\n",
    "    \n",
    "    auc_catboost = roc_auc_score(y_val, y_pred_proba_catboost)\n",
    "    f1_catboost = f1_score(y_val, y_pred_catboost)\n",
    "    accuracy_catboost = accuracy_score(y_val, y_pred_catboost)\n",
    "    mse_catboost = mean_squared_error(y_val, y_pred_catboost)\n",
    "\n",
    "    results.append({\n",
    "        'Fold': fold + 1,\n",
    "        'Model': 'CatBoost',\n",
    "        'Best Hyperparameters': catboost_grid.best_params_,\n",
    "        'AUC': auc_catboost,\n",
    "        'F1': f1_catboost,\n",
    "        'Accuracy': accuracy_catboost,\n",
    "        'MSE': mse_catboost\n",
    "    })\n",
    "    \n",
    "    print(f\"Fold {fold + 1} - CatBoost\")\n",
    "    print(f\"Best Hyperparameters: {catboost_grid.best_params_}\")\n",
    "    print(f\"AUC: {auc_catboost:.4f}, F1: {f1_catboost:.4f}, Accuracy: {accuracy_catboost:.4f}\")\n",
    "    \n",
    "    # Fit and evaluate XGBoost model\n",
    "    xgboost_grid.fit(X_train, y_train)\n",
    "    xgboost_best_model = xgboost_grid.best_estimator_\n",
    "    y_pred_xgboost = xgboost_best_model.predict(X_val)\n",
    "    y_pred_proba_xgboost = xgboost_best_model.predict_proba(X_val)[:, 1]\n",
    "    \n",
    "    auc_xgboost = roc_auc_score(y_val, y_pred_proba_xgboost)\n",
    "    f1_xgboost = f1_score(y_val, y_pred_xgboost)\n",
    "    accuracy_xgboost = accuracy_score(y_val, y_pred_xgboost)\n",
    "    mse_xgboost = mean_squared_error(y_val, y_pred_xgboost)\n",
    "\n",
    "    results.append({\n",
    "        'Fold': fold + 1,\n",
    "        'Model': 'XGBoost',\n",
    "        'Best Hyperparameters': xgboost_grid.best_params_,\n",
    "        'AUC': auc_xgboost,\n",
    "        'F1': f1_xgboost,\n",
    "        'Accuracy': accuracy_xgboost,\n",
    "        'MSE': mse_xgboost\n",
    "    })\n",
    "    \n",
    "    print(f\"Fold {fold + 1} - XGBoost\")\n",
    "    print(f\"Best Hyperparameters: {xgboost_grid.best_params_}\")\n",
    "    print(f\"AUC: {auc_xgboost:.4f}, F1: {f1_xgboost:.4f}, Accuracy: {accuracy_xgboost:.4f}\")\n",
    "    print(\"\\n\")"
   ]
  },
  {
   "cell_type": "markdown",
   "metadata": {},
   "source": [
    "### PRINT TRAINING RESULTS"
   ]
  },
  {
   "cell_type": "code",
   "execution_count": 116,
   "metadata": {},
   "outputs": [
    {
     "name": "stdout",
     "output_type": "stream",
     "text": [
      "   Fold     Model                               Best Hyperparameters  \\\n",
      "0     1  CatBoost  {'depth': 4, 'iterations': 100, 'l2_leaf_reg':...   \n",
      "1     1   XGBoost  {'learning_rate': 0.1, 'max_depth': 4, 'n_esti...   \n",
      "2     2  CatBoost  {'depth': 8, 'iterations': 100, 'l2_leaf_reg':...   \n",
      "3     2   XGBoost  {'learning_rate': 0.1, 'max_depth': 4, 'n_esti...   \n",
      "4     3  CatBoost  {'depth': 4, 'iterations': 100, 'l2_leaf_reg':...   \n",
      "5     3   XGBoost  {'learning_rate': 0.1, 'max_depth': 4, 'n_esti...   \n",
      "6     4  CatBoost  {'depth': 4, 'iterations': 100, 'l2_leaf_reg':...   \n",
      "7     4   XGBoost  {'learning_rate': 0.1, 'max_depth': 4, 'n_esti...   \n",
      "8     5  CatBoost  {'depth': 4, 'iterations': 100, 'l2_leaf_reg':...   \n",
      "9     5   XGBoost  {'learning_rate': 0.1, 'max_depth': 4, 'n_esti...   \n",
      "\n",
      "        AUC        F1  Accuracy       MSE  \n",
      "0  0.892637  0.377358  0.898462  0.101538  \n",
      "1  0.862265  0.406780  0.892308  0.107692  \n",
      "2  0.790465  0.000000  0.880000  0.120000  \n",
      "3  0.797097  0.127660  0.873846  0.126154  \n",
      "4  0.828641  0.232558  0.898462  0.101538  \n",
      "5  0.815878  0.340426  0.904615  0.095385  \n",
      "6  0.927662  0.509804  0.922840  0.077160  \n",
      "7  0.907311  0.596491  0.929012  0.070988  \n",
      "8  0.865548  0.385965  0.891975  0.108025  \n",
      "9  0.849441  0.419355  0.888889  0.111111  \n"
     ]
    }
   ],
   "source": [
    "# Create a DataFrame to display the results\n",
    "results_df = pd.DataFrame(results)\n",
    "print(results_df)"
   ]
  },
  {
   "cell_type": "markdown",
   "metadata": {},
   "source": [
    "### EXTRACT BEST HYPER-PARAMETERS FROM BOTH MODELS"
   ]
  },
  {
   "cell_type": "code",
   "execution_count": 117,
   "metadata": {},
   "outputs": [
    {
     "name": "stdout",
     "output_type": "stream",
     "text": [
      "Best CatBoost Hyperparameters: {'depth': 4, 'iterations': 100, 'l2_leaf_reg': 5, 'learning_rate': 0.1}\n",
      "Best XGBoost Hyperparameters: {'learning_rate': 0.1, 'max_depth': 4, 'n_estimators': 100, 'subsample': 0.8}\n"
     ]
    }
   ],
   "source": [
    "# Extract the best hyperparameters from the 4th fold\n",
    "best_catboost_params = results_df.loc[(results_df['Fold'] == 4) & (results_df['Model'] == 'CatBoost'), 'Best Hyperparameters'].values[0]\n",
    "best_xgboost_params = results_df.loc[(results_df['Fold'] == 4) & (results_df['Model'] == 'XGBoost'), 'Best Hyperparameters'].values[0]\n",
    "\n",
    "print(\"Best CatBoost Hyperparameters:\", best_catboost_params)\n",
    "print(\"Best XGBoost Hyperparameters:\", best_xgboost_params)"
   ]
  },
  {
   "cell_type": "markdown",
   "metadata": {},
   "source": [
    "### TRAIN THE MODEL ON FULL + AUGMENTATION DATA"
   ]
  },
  {
   "cell_type": "code",
   "execution_count": 119,
   "metadata": {},
   "outputs": [
    {
     "data": {
      "text/plain": [
       "<catboost.core.CatBoostClassifier at 0x273a286bdd0>"
      ]
     },
     "execution_count": 119,
     "metadata": {},
     "output_type": "execute_result"
    }
   ],
   "source": [
    "# Combine the training and augmentation data\n",
    "full_train_data = pd.concat([NEW_TRAINING, NEW_AUGMENTED], ignore_index=True)\n",
    "X_full_train = full_train_data.drop('Attrition', axis=1)\n",
    "y_full_train = full_train_data['Attrition']\n",
    "\n",
    "# Retrain CatBoost model with the best hyperparameters\n",
    "catboost_best_model = CatBoostClassifier(**best_catboost_params, silent=True)\n",
    "catboost_best_model.fit(X_full_train, y_full_train)\n",
    "\n"
   ]
  },
  {
   "cell_type": "code",
   "execution_count": 120,
   "metadata": {},
   "outputs": [
    {
     "data": {
      "text/html": [
       "<style>#sk-container-id-2 {color: black;}#sk-container-id-2 pre{padding: 0;}#sk-container-id-2 div.sk-toggleable {background-color: white;}#sk-container-id-2 label.sk-toggleable__label {cursor: pointer;display: block;width: 100%;margin-bottom: 0;padding: 0.3em;box-sizing: border-box;text-align: center;}#sk-container-id-2 label.sk-toggleable__label-arrow:before {content: \"▸\";float: left;margin-right: 0.25em;color: #696969;}#sk-container-id-2 label.sk-toggleable__label-arrow:hover:before {color: black;}#sk-container-id-2 div.sk-estimator:hover label.sk-toggleable__label-arrow:before {color: black;}#sk-container-id-2 div.sk-toggleable__content {max-height: 0;max-width: 0;overflow: hidden;text-align: left;background-color: #f0f8ff;}#sk-container-id-2 div.sk-toggleable__content pre {margin: 0.2em;color: black;border-radius: 0.25em;background-color: #f0f8ff;}#sk-container-id-2 input.sk-toggleable__control:checked~div.sk-toggleable__content {max-height: 200px;max-width: 100%;overflow: auto;}#sk-container-id-2 input.sk-toggleable__control:checked~label.sk-toggleable__label-arrow:before {content: \"▾\";}#sk-container-id-2 div.sk-estimator input.sk-toggleable__control:checked~label.sk-toggleable__label {background-color: #d4ebff;}#sk-container-id-2 div.sk-label input.sk-toggleable__control:checked~label.sk-toggleable__label {background-color: #d4ebff;}#sk-container-id-2 input.sk-hidden--visually {border: 0;clip: rect(1px 1px 1px 1px);clip: rect(1px, 1px, 1px, 1px);height: 1px;margin: -1px;overflow: hidden;padding: 0;position: absolute;width: 1px;}#sk-container-id-2 div.sk-estimator {font-family: monospace;background-color: #f0f8ff;border: 1px dotted black;border-radius: 0.25em;box-sizing: border-box;margin-bottom: 0.5em;}#sk-container-id-2 div.sk-estimator:hover {background-color: #d4ebff;}#sk-container-id-2 div.sk-parallel-item::after {content: \"\";width: 100%;border-bottom: 1px solid gray;flex-grow: 1;}#sk-container-id-2 div.sk-label:hover label.sk-toggleable__label {background-color: #d4ebff;}#sk-container-id-2 div.sk-serial::before {content: \"\";position: absolute;border-left: 1px solid gray;box-sizing: border-box;top: 0;bottom: 0;left: 50%;z-index: 0;}#sk-container-id-2 div.sk-serial {display: flex;flex-direction: column;align-items: center;background-color: white;padding-right: 0.2em;padding-left: 0.2em;position: relative;}#sk-container-id-2 div.sk-item {position: relative;z-index: 1;}#sk-container-id-2 div.sk-parallel {display: flex;align-items: stretch;justify-content: center;background-color: white;position: relative;}#sk-container-id-2 div.sk-item::before, #sk-container-id-2 div.sk-parallel-item::before {content: \"\";position: absolute;border-left: 1px solid gray;box-sizing: border-box;top: 0;bottom: 0;left: 50%;z-index: -1;}#sk-container-id-2 div.sk-parallel-item {display: flex;flex-direction: column;z-index: 1;position: relative;background-color: white;}#sk-container-id-2 div.sk-parallel-item:first-child::after {align-self: flex-end;width: 50%;}#sk-container-id-2 div.sk-parallel-item:last-child::after {align-self: flex-start;width: 50%;}#sk-container-id-2 div.sk-parallel-item:only-child::after {width: 0;}#sk-container-id-2 div.sk-dashed-wrapped {border: 1px dashed gray;margin: 0 0.4em 0.5em 0.4em;box-sizing: border-box;padding-bottom: 0.4em;background-color: white;}#sk-container-id-2 div.sk-label label {font-family: monospace;font-weight: bold;display: inline-block;line-height: 1.2em;}#sk-container-id-2 div.sk-label-container {text-align: center;}#sk-container-id-2 div.sk-container {/* jupyter's `normalize.less` sets `[hidden] { display: none; }` but bootstrap.min.css set `[hidden] { display: none !important; }` so we also need the `!important` here to be able to override the default hidden behavior on the sphinx rendered scikit-learn.org. See: https://github.com/scikit-learn/scikit-learn/issues/21755 */display: inline-block !important;position: relative;}#sk-container-id-2 div.sk-text-repr-fallback {display: none;}</style><div id=\"sk-container-id-2\" class=\"sk-top-container\"><div class=\"sk-text-repr-fallback\"><pre>XGBClassifier(base_score=None, booster=None, callbacks=None,\n",
       "              colsample_bylevel=None, colsample_bynode=None,\n",
       "              colsample_bytree=None, device=None, early_stopping_rounds=None,\n",
       "              enable_categorical=False, eval_metric=&#x27;logloss&#x27;,\n",
       "              feature_types=None, gamma=None, grow_policy=None,\n",
       "              importance_type=None, interaction_constraints=None,\n",
       "              learning_rate=0.1, max_bin=None, max_cat_threshold=None,\n",
       "              max_cat_to_onehot=None, max_delta_step=None, max_depth=4,\n",
       "              max_leaves=None, min_child_weight=None, missing=nan,\n",
       "              monotone_constraints=None, multi_strategy=None, n_estimators=100,\n",
       "              n_jobs=None, num_parallel_tree=None, random_state=None, ...)</pre><b>In a Jupyter environment, please rerun this cell to show the HTML representation or trust the notebook. <br />On GitHub, the HTML representation is unable to render, please try loading this page with nbviewer.org.</b></div><div class=\"sk-container\" hidden><div class=\"sk-item\"><div class=\"sk-estimator sk-toggleable\"><input class=\"sk-toggleable__control sk-hidden--visually\" id=\"sk-estimator-id-2\" type=\"checkbox\" checked><label for=\"sk-estimator-id-2\" class=\"sk-toggleable__label sk-toggleable__label-arrow\">XGBClassifier</label><div class=\"sk-toggleable__content\"><pre>XGBClassifier(base_score=None, booster=None, callbacks=None,\n",
       "              colsample_bylevel=None, colsample_bynode=None,\n",
       "              colsample_bytree=None, device=None, early_stopping_rounds=None,\n",
       "              enable_categorical=False, eval_metric=&#x27;logloss&#x27;,\n",
       "              feature_types=None, gamma=None, grow_policy=None,\n",
       "              importance_type=None, interaction_constraints=None,\n",
       "              learning_rate=0.1, max_bin=None, max_cat_threshold=None,\n",
       "              max_cat_to_onehot=None, max_delta_step=None, max_depth=4,\n",
       "              max_leaves=None, min_child_weight=None, missing=nan,\n",
       "              monotone_constraints=None, multi_strategy=None, n_estimators=100,\n",
       "              n_jobs=None, num_parallel_tree=None, random_state=None, ...)</pre></div></div></div></div></div>"
      ],
      "text/plain": [
       "XGBClassifier(base_score=None, booster=None, callbacks=None,\n",
       "              colsample_bylevel=None, colsample_bynode=None,\n",
       "              colsample_bytree=None, device=None, early_stopping_rounds=None,\n",
       "              enable_categorical=False, eval_metric='logloss',\n",
       "              feature_types=None, gamma=None, grow_policy=None,\n",
       "              importance_type=None, interaction_constraints=None,\n",
       "              learning_rate=0.1, max_bin=None, max_cat_threshold=None,\n",
       "              max_cat_to_onehot=None, max_delta_step=None, max_depth=4,\n",
       "              max_leaves=None, min_child_weight=None, missing=nan,\n",
       "              monotone_constraints=None, multi_strategy=None, n_estimators=100,\n",
       "              n_jobs=None, num_parallel_tree=None, random_state=None, ...)"
      ]
     },
     "execution_count": 120,
     "metadata": {},
     "output_type": "execute_result"
    }
   ],
   "source": [
    "# Retrain XGBoost model with the best hyperparameters\n",
    "xgboost_best_model = XGBClassifier(**best_xgboost_params, use_label_encoder=False, eval_metric='logloss')\n",
    "xgboost_best_model.fit(X_full_train, y_full_train)"
   ]
  },
  {
   "cell_type": "markdown",
   "metadata": {},
   "source": [
    "### EVALUATE MODEL ON TEST SET.(WE CAN'T HAVE METRICS BECAUSE WE DO NOT HAVE LABEL)"
   ]
  },
  {
   "cell_type": "code",
   "execution_count": 3,
   "metadata": {},
   "outputs": [
    {
     "ename": "NameError",
     "evalue": "name 'NEW_TESTING' is not defined",
     "output_type": "error",
     "traceback": [
      "\u001b[1;31m---------------------------------------------------------------------------\u001b[0m",
      "\u001b[1;31mNameError\u001b[0m                                 Traceback (most recent call last)",
      "Cell \u001b[1;32mIn[3], line 1\u001b[0m\n\u001b[1;32m----> 1\u001b[0m X_test \u001b[38;5;241m=\u001b[39m \u001b[43mNEW_TESTING\u001b[49m\n\u001b[0;32m      2\u001b[0m \u001b[38;5;66;03m# Evaluate CatBoost model on the test set\u001b[39;00m\n\u001b[0;32m      3\u001b[0m y_pred_catboost_test \u001b[38;5;241m=\u001b[39m catboost_best_model\u001b[38;5;241m.\u001b[39mpredict(X_test)\n",
      "\u001b[1;31mNameError\u001b[0m: name 'NEW_TESTING' is not defined"
     ]
    }
   ],
   "source": [
    "X_test = NEW_TESTING\n",
    "# Evaluate CatBoost model on the test set\n",
    "y_pred_catboost_test = catboost_best_model.predict(X_test)\n",
    "y_pred_proba_catboost_test = catboost_best_model.predict_proba(X_test)[:, 1]\n",
    "\n",
    "# Evaluate XGBoost model on the test set\n",
    "y_pred_xgboost_test = xgboost_best_model.predict(X_test)\n",
    "y_pred_proba_xgboost_test = xgboost_best_model.predict_proba(X_test)[:, 1]\n"
   ]
  },
  {
   "cell_type": "markdown",
   "metadata": {},
   "source": [
    "### EXPORT SUBMISSION "
   ]
  },
  {
   "cell_type": "code",
   "execution_count": 127,
   "metadata": {},
   "outputs": [],
   "source": [
    "test = pd.read_csv(\"test.csv\")\n",
    "id_column = test['id']\n",
    "\n",
    "# Combine the id column with the predicted probabilities\n",
    "predictions_df = pd.DataFrame({\n",
    "    'id': id_column,\n",
    "    'Attrition': y_pred_proba_catboost_test\n",
    "})\n",
    "\n",
    "predictions_df.to_csv('catboost_predictions.csv', index=False)"
   ]
  },
  {
   "cell_type": "markdown",
   "metadata": {},
   "source": [
    "**XGBOOST WAS ABLE TO GET 0.88 PRIVATE AND 0.92 PUBLIC SCORE ON KAGGLE**  \n",
    "**CATBOOST WAS ABLE TO GET 0.89 PRIVATE AND 0.93 PUBLIC SCORE ON KAGGLE**"
   ]
  },
  {
   "cell_type": "markdown",
   "metadata": {},
   "source": [
    "### SAVE MODEL FOR LATER"
   ]
  },
  {
   "cell_type": "code",
   "execution_count": 128,
   "metadata": {},
   "outputs": [
    {
     "data": {
      "text/plain": [
       "['xgboost_best_model.pkl']"
      ]
     },
     "execution_count": 128,
     "metadata": {},
     "output_type": "execute_result"
    }
   ],
   "source": [
    "import joblib\n",
    "\n",
    "# Save the CatBoost model\n",
    "joblib.dump(catboost_best_model, 'catboost_best_model.pkl')\n",
    "\n",
    "# Save the XGBoost model\n",
    "joblib.dump(xgboost_best_model, 'xgboost_best_model.pkl')"
   ]
  },
  {
   "cell_type": "code",
   "execution_count": 2,
   "metadata": {},
   "outputs": [
    {
     "data": {
      "text/plain": [
       "<catboost.core.CatBoostClassifier at 0x2116a9dff90>"
      ]
     },
     "execution_count": 2,
     "metadata": {},
     "output_type": "execute_result"
    }
   ],
   "source": [
    "import joblib\n",
    "joblib.load('catboost_best_model.pkl')"
   ]
  }
 ],
 "metadata": {
  "kernelspec": {
   "display_name": "Python 3",
   "language": "python",
   "name": "python3"
  },
  "language_info": {
   "codemirror_mode": {
    "name": "ipython",
    "version": 3
   },
   "file_extension": ".py",
   "mimetype": "text/x-python",
   "name": "python",
   "nbconvert_exporter": "python",
   "pygments_lexer": "ipython3",
   "version": "3.11.5"
  }
 },
 "nbformat": 4,
 "nbformat_minor": 2
}
